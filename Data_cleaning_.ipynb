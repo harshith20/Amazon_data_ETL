{
 "cells": [
  {
   "cell_type": "code",
   "execution_count": 1,
   "metadata": {},
   "outputs": [],
   "source": [
    "import pandas as pd\n",
    "import numpy as np\n",
    "data =pd.read_csv('amazon_phones.csv')"
   ]
  },
  {
   "cell_type": "code",
   "execution_count": 3,
   "metadata": {},
   "outputs": [
    {
     "name": "stdout",
     "output_type": "stream",
     "text": [
      "<class 'pandas.core.frame.DataFrame'>\n",
      "RangeIndex: 434 entries, 0 to 433\n",
      "Data columns (total 11 columns):\n",
      " #   Column            Non-Null Count  Dtype \n",
      "---  ------            --------------  ----- \n",
      " 0   Unnamed: 0        434 non-null    int64 \n",
      " 1   title             434 non-null    object\n",
      " 2   price             433 non-null    object\n",
      " 3   rating            434 non-null    object\n",
      " 4   brand             434 non-null    object\n",
      " 5   screen_size       434 non-null    object\n",
      " 6   battery_power     434 non-null    object\n",
      " 7   ram               434 non-null    object\n",
      " 8   storage           434 non-null    object\n",
      " 9   operating_system  434 non-null    object\n",
      " 10  item_weight       434 non-null    object\n",
      "dtypes: int64(1), object(10)\n",
      "memory usage: 37.4+ KB\n"
     ]
    }
   ],
   "source": [
    "data.info()\n",
    "data_transformed=data.copy()"
   ]
  },
  {
   "cell_type": "code",
   "execution_count": 4,
   "metadata": {},
   "outputs": [
    {
     "data": {
      "text/plain": [
       "0      10,999.\n",
       "1       8,999.\n",
       "2      10,999.\n",
       "3       8,499.\n",
       "4       8,499.\n",
       "        ...   \n",
       "429    12,999.\n",
       "430    20,999.\n",
       "431    39,999.\n",
       "432    17,999.\n",
       "433    11,999.\n",
       "Name: price, Length: 434, dtype: object"
      ]
     },
     "execution_count": 4,
     "metadata": {},
     "output_type": "execute_result"
    }
   ],
   "source": [
    "data_transformed['price']"
   ]
  },
  {
   "attachments": {},
   "cell_type": "markdown",
   "metadata": {},
   "source": [
    "To convert the above values into numeric , coma and dot needs to be removed "
   ]
  },
  {
   "cell_type": "code",
   "execution_count": 5,
   "metadata": {},
   "outputs": [
    {
     "name": "stderr",
     "output_type": "stream",
     "text": [
      "C:\\Users\\Harshith\\AppData\\Local\\Temp\\ipykernel_17916\\3006279927.py:1: FutureWarning: The default value of regex will change from True to False in a future version. In addition, single character regular expressions will *not* be treated as literal strings when regex=True.\n",
      "  data_transformed['price']=data['price'].str.replace(',','').str.replace('.', '').fillna('-20').astype(int).replace({-20:np.nan})\n"
     ]
    }
   ],
   "source": [
    "data_transformed['price']=data['price'].str.replace(',','').str.replace('.', '').fillna('-20').astype(int).replace({-20:np.nan})\n",
    "data_transformed['price']"
   ]
  },
  {
   "cell_type": "code",
   "execution_count": 6,
   "metadata": {},
   "outputs": [
    {
     "data": {
      "text/plain": [
       "0      3.9 out of 5\n",
       "1      3.9 out of 5\n",
       "2      4.2 out of 5\n",
       "3      3.9 out of 5\n",
       "4      3.9 out of 5\n",
       "           ...     \n",
       "429      3 out of 5\n",
       "430      4 out of 5\n",
       "431    3.8 out of 5\n",
       "432    3.8 out of 5\n",
       "433      4 out of 5\n",
       "Name: rating, Length: 434, dtype: object"
      ]
     },
     "execution_count": 6,
     "metadata": {},
     "output_type": "execute_result"
    }
   ],
   "source": [
    "data_transformed['rating']"
   ]
  },
  {
   "cell_type": "code",
   "execution_count": 7,
   "metadata": {},
   "outputs": [],
   "source": [
    "def transform_rating(df):\n",
    "    try :\n",
    "\n",
    "        df=df.split()[0]\n",
    "        return df\n",
    "\n",
    "    except AttributeError:\n",
    "        return df\n"
   ]
  },
  {
   "cell_type": "code",
   "execution_count": 8,
   "metadata": {},
   "outputs": [],
   "source": [
    "\n",
    "data_transformed['rating']=data_transformed['rating'].apply(lambda x: transform_rating(x))\n"
   ]
  },
  {
   "cell_type": "code",
   "execution_count": 11,
   "metadata": {},
   "outputs": [
    {
     "data": {
      "text/plain": [
       "0      3.9\n",
       "1      3.9\n",
       "2      4.2\n",
       "3      3.9\n",
       "4      3.9\n",
       "      ... \n",
       "429      3\n",
       "430      4\n",
       "431    3.8\n",
       "432    3.8\n",
       "433      4\n",
       "Name: rating, Length: 434, dtype: object"
      ]
     },
     "execution_count": 11,
     "metadata": {},
     "output_type": "execute_result"
    }
   ],
   "source": [
    "data_transformed['rating']"
   ]
  },
  {
   "cell_type": "code",
   "execution_count": 12,
   "metadata": {},
   "outputs": [
    {
     "data": {
      "text/plain": [
       "168    Previous\n",
       "254    Previous\n",
       "287    Previous\n",
       "300    Previous\n",
       "343    Previous\n",
       "369    Previous\n",
       "416    Previous\n",
       "417    Previous\n",
       "422    Previous\n",
       "426    Previous\n",
       "Name: rating, dtype: object"
      ]
     },
     "execution_count": 12,
     "metadata": {},
     "output_type": "execute_result"
    }
   ],
   "source": [
    "data_transformed['rating'][data_transformed['rating'].apply(lambda x: len(x) > 3)]"
   ]
  },
  {
   "attachments": {},
   "cell_type": "markdown",
   "metadata": {},
   "source": [
    "Need to change these values into NAN "
   ]
  },
  {
   "cell_type": "code",
   "execution_count": null,
   "metadata": {},
   "outputs": [],
   "source": [
    "data_transformed['rating'][data_transformed['rating'].apply(lambda x: len(x) > 3)]=np.nan\n"
   ]
  },
  {
   "cell_type": "code",
   "execution_count": 7,
   "metadata": {},
   "outputs": [
    {
     "data": {
      "text/plain": [
       "10"
      ]
     },
     "execution_count": 7,
     "metadata": {},
     "output_type": "execute_result"
    }
   ],
   "source": [
    "data_transformed['rating']=data_transformed['rating'].astype(float)\n",
    "data_transformed['rating'].isnull().sum()\n"
   ]
  },
  {
   "cell_type": "code",
   "execution_count": 13,
   "metadata": {},
   "outputs": [
    {
     "data": {
      "text/plain": [
       "0      6.58 inches\n",
       "1      6.71 inches\n",
       "2      6.72 inches\n",
       "3       6.5 inches\n",
       "4       6.5 inches\n",
       "          ...     \n",
       "429     6.6 inches\n",
       "430     6.6 inches\n",
       "431     6.8 inches\n",
       "432    6.67 inches\n",
       "433     6.5 inches\n",
       "Name: screen_size, Length: 434, dtype: object"
      ]
     },
     "execution_count": 13,
     "metadata": {},
     "output_type": "execute_result"
    }
   ],
   "source": [
    "data_transformed['screen_size']"
   ]
  },
  {
   "cell_type": "code",
   "execution_count": 8,
   "metadata": {},
   "outputs": [],
   "source": [
    "def convert_units(value):\n",
    "    \n",
    "    parts = value.split()\n",
    "    converted_value=0\n",
    "        \n",
    "    if len(parts) == 2:\n",
    "        numeric_part = float(parts[0])\n",
    "        unit = parts[1]\n",
    "            \n",
    "        if unit == 'cm':\n",
    "            converted_value = numeric_part * 0.393701  # Convert cm to inches\n",
    "        else:\n",
    "            converted_value = numeric_part  # Keep the original value\n",
    "        \n",
    "        \n",
    "    \n",
    "    return converted_value"
   ]
  },
  {
   "attachments": {},
   "cell_type": "markdown",
   "metadata": {},
   "source": [
    "There are some values in inches and some in cm , so need to bring all values under same unit , so changed everything into inches"
   ]
  },
  {
   "cell_type": "code",
   "execution_count": 14,
   "metadata": {},
   "outputs": [],
   "source": [
    "strings =data_transformed['screen_size'].apply(lambda x: transform_rating(x))\n",
    "index=strings[strings.apply(lambda x: len(x) > 4)].index\n"
   ]
  },
  {
   "cell_type": "code",
   "execution_count": 15,
   "metadata": {},
   "outputs": [
    {
     "data": {
      "text/plain": [
       "5          16.72 cm\n",
       "59         16.65 cm\n",
       "65         16.72 cm\n",
       "66         16.66 cm\n",
       "79         16.66 cm\n",
       "86     6.517 inches\n",
       "98         16.66 cm\n",
       "121        16.66 cm\n",
       "134        16.65 cm\n",
       "234        16.72 cm\n",
       "236        16.66 cm\n",
       "244        16.71 cm\n",
       "246        16.31 cm\n",
       "258        16.66 cm\n",
       "262        16.66 cm\n",
       "264        16.66 cm\n",
       "275        16.31 cm\n",
       "297        16.66 cm\n",
       "335        17.07 cm\n",
       "347        16.65 cm\n",
       "379    6.517 inches\n",
       "386    6.745 inches\n",
       "387        16.66 cm\n",
       "388    6.517 inches\n",
       "410        16.66 cm\n",
       "417        16.56 cm\n",
       "Name: screen_size, dtype: object"
      ]
     },
     "execution_count": 15,
     "metadata": {},
     "output_type": "execute_result"
    }
   ],
   "source": [
    "data_transformed['screen_size'].loc[index]"
   ]
  },
  {
   "cell_type": "code",
   "execution_count": 10,
   "metadata": {},
   "outputs": [
    {
     "data": {
      "text/plain": [
       "5      6.582681\n",
       "59     6.555122\n",
       "65     6.582681\n",
       "66     6.559059\n",
       "79     6.559059\n",
       "86     6.517000\n",
       "98     6.559059\n",
       "121    6.559059\n",
       "134    6.555122\n",
       "234    6.582681\n",
       "236    6.559059\n",
       "244    6.578744\n",
       "246    6.421263\n",
       "258    6.559059\n",
       "262    6.559059\n",
       "264    6.559059\n",
       "275    6.421263\n",
       "297    6.559059\n",
       "335    6.720476\n",
       "347    6.555122\n",
       "379    6.517000\n",
       "386    6.745000\n",
       "387    6.559059\n",
       "388    6.517000\n",
       "410    6.559059\n",
       "417    6.519689\n",
       "Name: screen_size, dtype: float64"
      ]
     },
     "execution_count": 10,
     "metadata": {},
     "output_type": "execute_result"
    }
   ],
   "source": [
    "data_transformed['screen_size'].apply(lambda x: convert_units(x)).loc[index]"
   ]
  },
  {
   "cell_type": "code",
   "execution_count": 11,
   "metadata": {},
   "outputs": [],
   "source": [
    "data_transformed['screen_size']=data_transformed['screen_size'].apply(lambda x: convert_units(x))"
   ]
  },
  {
   "cell_type": "code",
   "execution_count": 16,
   "metadata": {},
   "outputs": [
    {
     "data": {
      "text/plain": [
       "0      5000\n",
       "1      5000\n",
       "2      5000\n",
       "3      5000\n",
       "4      5000\n",
       "       ... \n",
       "429    5000\n",
       "430    5080\n",
       "431    5160\n",
       "432    5000\n",
       "433    5000\n",
       "Name: battery_power, Length: 434, dtype: object"
      ]
     },
     "execution_count": 16,
     "metadata": {},
     "output_type": "execute_result"
    }
   ],
   "source": [
    "data_transformed['battery_power']"
   ]
  },
  {
   "attachments": {},
   "cell_type": "markdown",
   "metadata": {},
   "source": [
    " Found Out some unusual values while trying to convert them into numeric values "
   ]
  },
  {
   "cell_type": "code",
   "execution_count": 12,
   "metadata": {},
   "outputs": [
    {
     "data": {
      "text/plain": [
       "9                       []\n",
       "23                      []\n",
       "24                      []\n",
       "44     1450 Milliamp Hours\n",
       "153                     []\n",
       "              ...         \n",
       "418    5000 Milliamp Hours\n",
       "419                     []\n",
       "422    3200 Milliamp Hours\n",
       "423    5000 Milliamp Hours\n",
       "426                     []\n",
       "Name: battery_power, Length: 62, dtype: object"
      ]
     },
     "execution_count": 12,
     "metadata": {},
     "output_type": "execute_result"
    }
   ],
   "source": [
    "data_transformed['battery_power'][pd.to_numeric(data_transformed['battery_power'], errors='coerce').isna()]"
   ]
  },
  {
   "cell_type": "code",
   "execution_count": 23,
   "metadata": {},
   "outputs": [
    {
     "data": {
      "text/plain": [
       "9       True\n",
       "23      True\n",
       "24      True\n",
       "44     False\n",
       "153     True\n",
       "       ...  \n",
       "418    False\n",
       "419     True\n",
       "422    False\n",
       "423    False\n",
       "426     True\n",
       "Name: battery_power, Length: 62, dtype: bool"
      ]
     },
     "execution_count": 23,
     "metadata": {},
     "output_type": "execute_result"
    }
   ],
   "source": [
    "data_transformed['battery_power'][pd.to_numeric(data_transformed['battery_power'], errors='coerce').isna()]=='[]'\n"
   ]
  },
  {
   "cell_type": "code",
   "execution_count": 22,
   "metadata": {},
   "outputs": [
    {
     "data": {
      "text/plain": [
       "39"
      ]
     },
     "execution_count": 22,
     "metadata": {},
     "output_type": "execute_result"
    }
   ],
   "source": [
    "k=data_transformed['battery_power'][pd.to_numeric(data_transformed['battery_power'], errors='coerce').isna()]=='[]'\n",
    "data_transformed['battery_power'].loc[k[k==True].index].count()"
   ]
  },
  {
   "attachments": {},
   "cell_type": "markdown",
   "metadata": {},
   "source": [
    "Here  there are some abnormal  values '[]'  with count of 39.  made a function to remove string in  ex: '1450 Milliamp Hours'  and rest into nan"
   ]
  },
  {
   "cell_type": "code",
   "execution_count": 14,
   "metadata": {},
   "outputs": [],
   "source": [
    "import re\n",
    "def convert_abnormal_value(value):\n",
    "    \n",
    "    match = re.search(r'\\d+(\\.\\d+)?', value)\n",
    "    if match:\n",
    "        return float(match.group())\n",
    "    if re.match(r'^\\d+(\\.\\d+)?$', value):\n",
    "        return float(value)\n",
    "    else:\n",
    "        return float('nan')\n"
   ]
  },
  {
   "cell_type": "code",
   "execution_count": 15,
   "metadata": {},
   "outputs": [
    {
     "data": {
      "image/png": "[encoded data removed]",
      "text/plain": [
       "<Figure size 432x288 with 1 Axes>"
      ]
     },
     "metadata": {
      "needs_background": "light"
     },
     "output_type": "display_data"
    }
   ],
   "source": [
    "import matplotlib.pyplot as plt\n",
    "data_transformed['battery_power'].apply(convert_abnormal_value)\n",
    "plt.hist(data_transformed['battery_power'].apply(convert_abnormal_value))  # Drop NaN values and specify number of bins\n",
    "plt.xlabel('Values')\n",
    "plt.ylabel('Frequency')\n",
    "plt.title('Histogram of Converted Data')\n",
    "plt.show()"
   ]
  },
  {
   "cell_type": "code",
   "execution_count": 16,
   "metadata": {},
   "outputs": [
    {
     "name": "stdout",
     "output_type": "stream",
     "text": [
      "9         NaN\n",
      "23        NaN\n",
      "24        NaN\n",
      "44     1450.0\n",
      "153       NaN\n",
      "        ...  \n",
      "418    5000.0\n",
      "419       NaN\n",
      "422    3200.0\n",
      "423    5000.0\n",
      "426       NaN\n",
      "Name: battery_power, Length: 62, dtype: float64\n"
     ]
    },
    {
     "data": {
      "text/plain": [
       "39"
      ]
     },
     "execution_count": 16,
     "metadata": {},
     "output_type": "execute_result"
    }
   ],
   "source": [
    "index=data_transformed['battery_power'][pd.to_numeric(data_transformed['battery_power'], errors='coerce').isna()].index\n",
    "\n",
    "print(data_transformed['battery_power'].apply(convert_abnormal_value).loc[index])\n",
    "\n",
    "data_transformed['battery_power'].apply(convert_abnormal_value).loc[index].isna().sum()"
   ]
  },
  {
   "attachments": {},
   "cell_type": "markdown",
   "metadata": {},
   "source": [
    "Got 39 null values which are of the type '[]' as expected"
   ]
  },
  {
   "cell_type": "code",
   "execution_count": 17,
   "metadata": {},
   "outputs": [],
   "source": [
    "data_transformed['battery_power']=data_transformed['battery_power'].apply(convert_abnormal_value)\n"
   ]
  },
  {
   "cell_type": "code",
   "execution_count": 18,
   "metadata": {},
   "outputs": [],
   "source": [
    "def transform_ram(df):\n",
    "    try :\n",
    "\n",
    "        df=int(df.split()[0])\n",
    "        return df\n",
    "\n",
    "    except ValueError:\n",
    "        return np.nan"
   ]
  },
  {
   "cell_type": "code",
   "execution_count": 19,
   "metadata": {},
   "outputs": [
    {
     "data": {
      "text/plain": [
       "4.0      93\n",
       "6.0      88\n",
       "8.0      69\n",
       "128.0    35\n",
       "3.0      30\n",
       "2.0      25\n",
       "64.0     23\n",
       "256.0    20\n",
       "12.0      6\n",
       "16.0      3\n",
       "32.0      2\n",
       "Name: ram, dtype: int64"
      ]
     },
     "execution_count": 19,
     "metadata": {},
     "output_type": "execute_result"
    }
   ],
   "source": [
    "data_transformed['ram'].apply(lambda x: transform_ram(x)).value_counts()"
   ]
  },
  {
   "cell_type": "code",
   "execution_count": 20,
   "metadata": {},
   "outputs": [
    {
     "data": {
      "text/html": [
       "<div>\n",
       "<style scoped>\n",
       "    .dataframe tbody tr th:only-of-type {\n",
       "        vertical-align: middle;\n",
       "    }\n",
       "\n",
       "    .dataframe tbody tr th {\n",
       "        vertical-align: top;\n",
       "    }\n",
       "\n",
       "    .dataframe thead th {\n",
       "        text-align: right;\n",
       "    }\n",
       "</style>\n",
       "<table border=\"1\" class=\"dataframe\">\n",
       "  <thead>\n",
       "    <tr style=\"text-align: right;\">\n",
       "      <th></th>\n",
       "      <th>Unnamed: 0</th>\n",
       "      <th>title</th>\n",
       "      <th>price</th>\n",
       "      <th>rating</th>\n",
       "      <th>brand</th>\n",
       "      <th>screen_size</th>\n",
       "      <th>battery_power</th>\n",
       "      <th>ram</th>\n",
       "      <th>storage</th>\n",
       "      <th>operating_system</th>\n",
       "      <th>item_weight</th>\n",
       "    </tr>\n",
       "  </thead>\n",
       "  <tbody>\n",
       "    <tr>\n",
       "      <th>170</th>\n",
       "      <td>170</td>\n",
       "      <td>realme narzo 50i (Mint Green, 2GB RAM+32GB Sto...</td>\n",
       "      <td>6499.0</td>\n",
       "      <td>4.0</td>\n",
       "      <td>Realme</td>\n",
       "      <td>6.500000</td>\n",
       "      <td>5000.0</td>\n",
       "      <td>32 GB</td>\n",
       "      <td>2 GB</td>\n",
       "      <td>Android 11.0</td>\n",
       "      <td>182 grams</td>\n",
       "    </tr>\n",
       "    <tr>\n",
       "      <th>176</th>\n",
       "      <td>176</td>\n",
       "      <td>Micromax X512 Anniversary Edition 1750 mAh, To...</td>\n",
       "      <td>999.0</td>\n",
       "      <td>3.5</td>\n",
       "      <td>Micromax</td>\n",
       "      <td>1.767717</td>\n",
       "      <td>1750.0</td>\n",
       "      <td>32 MB</td>\n",
       "      <td>32 MB</td>\n",
       "      <td>SPREADTRUM</td>\n",
       "      <td>250 grams</td>\n",
       "    </tr>\n",
       "  </tbody>\n",
       "</table>\n",
       "</div>"
      ],
      "text/plain": [
       "     Unnamed: 0                                              title   price  \\\n",
       "170         170  realme narzo 50i (Mint Green, 2GB RAM+32GB Sto...  6499.0   \n",
       "176         176  Micromax X512 Anniversary Edition 1750 mAh, To...   999.0   \n",
       "\n",
       "     rating     brand  screen_size  battery_power    ram storage  \\\n",
       "170     4.0    Realme     6.500000         5000.0  32 GB    2 GB   \n",
       "176     3.5  Micromax     1.767717         1750.0  32 MB   32 MB   \n",
       "\n",
       "    operating_system item_weight  \n",
       "170     Android 11.0   182 grams  \n",
       "176       SPREADTRUM   250 grams  "
      ]
     },
     "execution_count": 20,
     "metadata": {},
     "output_type": "execute_result"
    }
   ],
   "source": [
    "data_transformed[data_transformed['ram'].apply(lambda x: transform_ram(x))==32]\n",
    "\n"
   ]
  },
  {
   "cell_type": "code",
   "execution_count": 21,
   "metadata": {},
   "outputs": [
    {
     "name": "stdout",
     "output_type": "stream",
     "text": [
      "40 8.472135811722177 14.0\n"
     ]
    }
   ],
   "source": [
    "from scipy import stats\n",
    "\n",
    "\n",
    "\n",
    "transformed_data, lambda_value = stats.boxcox( data_transformed['ram'].apply(lambda x: transform_ram(x)))\n",
    "\n",
    "q25 , q75 = np.percentile(transformed_data, [25, 75])\n",
    "q25=data_transformed['ram'].apply(lambda x: transform_ram(x)).quantile(0.25)\n",
    "q75=data_transformed['ram'].apply(lambda x: transform_ram(x)).quantile(0.75)\n",
    "\n",
    "iqr = q75 - q25\n",
    "lower_bound = q25 - 1.5 * iqr\n",
    "upper_bound = q75 + 1.5 * iqr\n",
    "\n",
    "outliers = (transformed_data < lower_bound) | (transformed_data > upper_bound)\n",
    "\n",
    "print(sum(outliers==False),lambda_value,upper_bound)"
   ]
  },
  {
   "cell_type": "code",
   "execution_count": 22,
   "metadata": {},
   "outputs": [],
   "source": [
    "data_transformed['ram']=data_transformed['ram'].apply(lambda x: transform_ram(x))"
   ]
  },
  {
   "attachments": {},
   "cell_type": "markdown",
   "metadata": {},
   "source": [
    "Here  some ram values are abnormal  with storage space having less than them , lets eliminate those values"
   ]
  },
  {
   "cell_type": "code",
   "execution_count": 23,
   "metadata": {},
   "outputs": [
    {
     "data": {
      "text/html": [
       "<div>\n",
       "<style scoped>\n",
       "    .dataframe tbody tr th:only-of-type {\n",
       "        vertical-align: middle;\n",
       "    }\n",
       "\n",
       "    .dataframe tbody tr th {\n",
       "        vertical-align: top;\n",
       "    }\n",
       "\n",
       "    .dataframe thead th {\n",
       "        text-align: right;\n",
       "    }\n",
       "</style>\n",
       "<table border=\"1\" class=\"dataframe\">\n",
       "  <thead>\n",
       "    <tr style=\"text-align: right;\">\n",
       "      <th></th>\n",
       "      <th>Unnamed: 0</th>\n",
       "      <th>title</th>\n",
       "      <th>price</th>\n",
       "      <th>rating</th>\n",
       "      <th>brand</th>\n",
       "      <th>screen_size</th>\n",
       "      <th>battery_power</th>\n",
       "      <th>ram</th>\n",
       "      <th>storage</th>\n",
       "      <th>operating_system</th>\n",
       "      <th>item_weight</th>\n",
       "    </tr>\n",
       "  </thead>\n",
       "  <tbody>\n",
       "    <tr>\n",
       "      <th>170</th>\n",
       "      <td>170</td>\n",
       "      <td>realme narzo 50i (Mint Green, 2GB RAM+32GB Sto...</td>\n",
       "      <td>6499.0</td>\n",
       "      <td>4.0</td>\n",
       "      <td>Realme</td>\n",
       "      <td>6.500000</td>\n",
       "      <td>5000.0</td>\n",
       "      <td>32.0</td>\n",
       "      <td>2 GB</td>\n",
       "      <td>Android 11.0</td>\n",
       "      <td>182 grams</td>\n",
       "    </tr>\n",
       "    <tr>\n",
       "      <th>176</th>\n",
       "      <td>176</td>\n",
       "      <td>Micromax X512 Anniversary Edition 1750 mAh, To...</td>\n",
       "      <td>999.0</td>\n",
       "      <td>3.5</td>\n",
       "      <td>Micromax</td>\n",
       "      <td>1.767717</td>\n",
       "      <td>1750.0</td>\n",
       "      <td>32.0</td>\n",
       "      <td>32 MB</td>\n",
       "      <td>SPREADTRUM</td>\n",
       "      <td>250 grams</td>\n",
       "    </tr>\n",
       "  </tbody>\n",
       "</table>\n",
       "</div>"
      ],
      "text/plain": [
       "     Unnamed: 0                                              title   price  \\\n",
       "170         170  realme narzo 50i (Mint Green, 2GB RAM+32GB Sto...  6499.0   \n",
       "176         176  Micromax X512 Anniversary Edition 1750 mAh, To...   999.0   \n",
       "\n",
       "     rating     brand  screen_size  battery_power   ram storage  \\\n",
       "170     4.0    Realme     6.500000         5000.0  32.0    2 GB   \n",
       "176     3.5  Micromax     1.767717         1750.0  32.0   32 MB   \n",
       "\n",
       "    operating_system item_weight  \n",
       "170     Android 11.0   182 grams  \n",
       "176       SPREADTRUM   250 grams  "
      ]
     },
     "execution_count": 23,
     "metadata": {},
     "output_type": "execute_result"
    }
   ],
   "source": [
    "data_transformed[data_transformed['ram']==32]"
   ]
  },
  {
   "cell_type": "code",
   "execution_count": 24,
   "metadata": {},
   "outputs": [
    {
     "name": "stderr",
     "output_type": "stream",
     "text": [
      "C:\\Users\\Harshith\\AppData\\Local\\Temp\\ipykernel_12832\\1743083818.py:1: SettingWithCopyWarning: \n",
      "A value is trying to be set on a copy of a slice from a DataFrame\n",
      "\n",
      "See the caveats in the documentation: https://pandas.pydata.org/pandas-docs/stable/user_guide/indexing.html#returning-a-view-versus-a-copy\n",
      "  data_transformed['ram'][data_transformed['ram']>16] = np.nan\n"
     ]
    }
   ],
   "source": [
    "data_transformed['ram'][data_transformed['ram']>16] = np.nan"
   ]
  },
  {
   "cell_type": "code",
   "execution_count": 25,
   "metadata": {},
   "outputs": [
    {
     "data": {
      "text/plain": [
       "4.0     93\n",
       "6.0     88\n",
       "8.0     69\n",
       "3.0     30\n",
       "2.0     25\n",
       "12.0     6\n",
       "16.0     3\n",
       "Name: ram, dtype: int64"
      ]
     },
     "execution_count": 25,
     "metadata": {},
     "output_type": "execute_result"
    }
   ],
   "source": [
    "data_transformed['ram'].value_counts()"
   ]
  },
  {
   "cell_type": "code",
   "execution_count": 26,
   "metadata": {},
   "outputs": [
    {
     "data": {
      "text/plain": [
       "128 GB    138\n",
       "64 GB      77\n",
       "4 GB       76\n",
       "[]         39\n",
       "256 GB     26\n",
       "32 GB      21\n",
       "8 GB       20\n",
       "6 GB       14\n",
       "16 GB       5\n",
       "512 GB      4\n",
       "2 GB        4\n",
       "12 GB       2\n",
       "64          2\n",
       "128         1\n",
       "32 MB       1\n",
       "48 MB       1\n",
       "1 GB        1\n",
       "256         1\n",
       "0 GB        1\n",
       "Name: storage, dtype: int64"
      ]
     },
     "execution_count": 26,
     "metadata": {},
     "output_type": "execute_result"
    }
   ],
   "source": [
    "data_transformed['storage'].value_counts()"
   ]
  },
  {
   "cell_type": "code",
   "execution_count": 27,
   "metadata": {},
   "outputs": [],
   "source": [
    "def transform_storage(df):\n",
    "    try :\n",
    "        if len(df.split())>1 and df.split()[1] != 'MB':\n",
    "            df=int(df.split()[0])\n",
    "            return df\n",
    "\n",
    "        \n",
    "        return np.nan\n",
    "\n",
    "    except ValueError:\n",
    "        return np.nan"
   ]
  },
  {
   "cell_type": "code",
   "execution_count": 28,
   "metadata": {},
   "outputs": [
    {
     "data": {
      "text/plain": [
       "'4'"
      ]
     },
     "execution_count": 28,
     "metadata": {},
     "output_type": "execute_result"
    }
   ],
   "source": [
    "data_transformed['storage'].str.split()[1][0]"
   ]
  },
  {
   "cell_type": "code",
   "execution_count": 29,
   "metadata": {},
   "outputs": [],
   "source": [
    "data_transformed['storage']=data_transformed['storage'].apply(lambda x: transform_storage(x))"
   ]
  },
  {
   "cell_type": "code",
   "execution_count": 30,
   "metadata": {},
   "outputs": [
    {
     "name": "stderr",
     "output_type": "stream",
     "text": [
      "C:\\Users\\Harshith\\AppData\\Local\\Temp\\ipykernel_12832\\1330777185.py:2: SettingWithCopyWarning: \n",
      "A value is trying to be set on a copy of a slice from a DataFrame\n",
      "\n",
      "See the caveats in the documentation: https://pandas.pydata.org/pandas-docs/stable/user_guide/indexing.html#returning-a-view-versus-a-copy\n",
      "  data_transformed['storage'][data_transformed['storage']<12]=np.nan\n"
     ]
    }
   ],
   "source": [
    "\n",
    "# data_transformed[data_transformed['storage'].apply(lambda x: transform_storage(x))==512]\n",
    "data_transformed['storage'][data_transformed['storage']<12]=np.nan"
   ]
  },
  {
   "cell_type": "code",
   "execution_count": 31,
   "metadata": {},
   "outputs": [],
   "source": [
    "def transform_weight(df):\n",
    "    try :\n",
    "        \n",
    "        df=int(df.split()[0])\n",
    "        return df\n",
    "\n",
    "\n",
    "    except ValueError:\n",
    "        return np.nan"
   ]
  },
  {
   "cell_type": "code",
   "execution_count": 32,
   "metadata": {},
   "outputs": [
    {
     "data": {
      "image/png": "[encoded data removed]",
      "text/plain": [
       "<Figure size 432x288 with 1 Axes>"
      ]
     },
     "metadata": {
      "needs_background": "light"
     },
     "output_type": "display_data"
    }
   ],
   "source": [
    "data_transformed['item_weight'].apply(lambda x: transform_weight(x))\n",
    "plt.hist(data_transformed['item_weight'].apply(lambda x: transform_weight(x)))  # Drop NaN values and specify number of bins\n",
    "plt.xlabel('Values')\n",
    "plt.ylabel('Frequency')\n",
    "plt.title('Histogram of Converted Data')\n",
    "plt.show()"
   ]
  },
  {
   "cell_type": "code",
   "execution_count": 33,
   "metadata": {},
   "outputs": [
    {
     "data": {
      "image/png": "[encoded data removed]",
      "text/plain": [
       "<Figure size 432x288 with 1 Axes>"
      ]
     },
     "metadata": {
      "needs_background": "light"
     },
     "output_type": "display_data"
    }
   ],
   "source": [
    "import scipy.stats as stats\n",
    "import matplotlib.pyplot as plt\n",
    "\n",
    "# Perform QQ plot\n",
    "qqplot = stats.probplot(data_transformed['item_weight'].apply(lambda x: transform_weight(x)), dist=\"norm\", plot=plt)\n",
    "\n",
    "# Display the QQ plot\n",
    "plt.title(\"QQ Plot - item_weight\")\n",
    "plt.show()"
   ]
  },
  {
   "cell_type": "code",
   "execution_count": 34,
   "metadata": {},
   "outputs": [
    {
     "data": {
      "image/png": "[encoded data removed]",
      "text/plain": [
       "<Figure size 432x288 with 1 Axes>"
      ]
     },
     "metadata": {
      "needs_background": "light"
     },
     "output_type": "display_data"
    }
   ],
   "source": [
    "import seaborn as sns\n",
    "\n",
    "# Create histogram plot with KDE\n",
    "sns.histplot(data_transformed['item_weight'].apply(lambda x: transform_weight(x)), kde=True)\n",
    "\n",
    "# Set plot title and labels\n",
    "plt.title(\"Histogram Plot with KDE - item_weight\")\n",
    "plt.xlabel(\"Item Weight\")\n",
    "plt.ylabel(\"Frequency\")\n",
    "\n",
    "# Display the plot\n",
    "plt.show()"
   ]
  },
  {
   "cell_type": "code",
   "execution_count": 35,
   "metadata": {},
   "outputs": [],
   "source": [
    "data_transformed['item_weight']=data_transformed['item_weight'].apply(lambda x: transform_weight(x))"
   ]
  },
  {
   "cell_type": "code",
   "execution_count": 36,
   "metadata": {},
   "outputs": [
    {
     "data": {
      "text/plain": [
       "Index(['Unnamed: 0', 'title', 'price', 'rating', 'brand', 'screen_size',\n",
       "       'battery_power', 'ram', 'storage', 'operating_system', 'item_weight'],\n",
       "      dtype='object')"
      ]
     },
     "execution_count": 36,
     "metadata": {},
     "output_type": "execute_result"
    }
   ],
   "source": [
    "data_transformed.columns "
   ]
  },
  {
   "cell_type": "code",
   "execution_count": 37,
   "metadata": {},
   "outputs": [],
   "source": [
    "# Remove the column 'Unnamed: 0'\n",
    "data_transformed = data_transformed.drop('Unnamed: 0', axis=1)\n",
    "\n",
    "# Rename the columns\n",
    "data_transformed = data_transformed.rename(columns={\n",
    "    'screen_size': 'screen_size(inches)',\n",
    "    'ram': 'ram(GB)',\n",
    "    'storage': 'storage(GB)',\n",
    "    'item_weight': 'item_weight(grams)'\n",
    "})\n",
    "\n",
    "\n",
    "\n",
    "\n",
    "\n",
    "\n"
   ]
  },
  {
   "cell_type": "code",
   "execution_count": 38,
   "metadata": {},
   "outputs": [],
   "source": [
    "data_transformed = data_transformed.rename(columns={\n",
    "    'battery_power': 'battery_power(MAH)'})"
   ]
  },
  {
   "cell_type": "code",
   "execution_count": 39,
   "metadata": {},
   "outputs": [
    {
     "data": {
      "text/html": [
       "<div>\n",
       "<style scoped>\n",
       "    .dataframe tbody tr th:only-of-type {\n",
       "        vertical-align: middle;\n",
       "    }\n",
       "\n",
       "    .dataframe tbody tr th {\n",
       "        vertical-align: top;\n",
       "    }\n",
       "\n",
       "    .dataframe thead th {\n",
       "        text-align: right;\n",
       "    }\n",
       "</style>\n",
       "<table border=\"1\" class=\"dataframe\">\n",
       "  <thead>\n",
       "    <tr style=\"text-align: right;\">\n",
       "      <th></th>\n",
       "      <th>price</th>\n",
       "      <th>rating</th>\n",
       "      <th>screen_size(inches)</th>\n",
       "      <th>battery_power(MAH)</th>\n",
       "      <th>ram(GB)</th>\n",
       "      <th>storage(GB)</th>\n",
       "      <th>item_weight(grams)</th>\n",
       "    </tr>\n",
       "  </thead>\n",
       "  <tbody>\n",
       "    <tr>\n",
       "      <th>count</th>\n",
       "      <td>433.000000</td>\n",
       "      <td>424.000000</td>\n",
       "      <td>434.000000</td>\n",
       "      <td>395.000000</td>\n",
       "      <td>314.000000</td>\n",
       "      <td>273.000000</td>\n",
       "      <td>378.000000</td>\n",
       "    </tr>\n",
       "    <tr>\n",
       "      <th>mean</th>\n",
       "      <td>16928.942263</td>\n",
       "      <td>3.873585</td>\n",
       "      <td>5.832364</td>\n",
       "      <td>4924.516456</td>\n",
       "      <td>5.452229</td>\n",
       "      <td>117.479853</td>\n",
       "      <td>194.597884</td>\n",
       "    </tr>\n",
       "    <tr>\n",
       "      <th>std</th>\n",
       "      <td>12706.409441</td>\n",
       "      <td>0.451224</td>\n",
       "      <td>2.040368</td>\n",
       "      <td>722.568161</td>\n",
       "      <td>2.357629</td>\n",
       "      <td>76.315766</td>\n",
       "      <td>16.935114</td>\n",
       "    </tr>\n",
       "    <tr>\n",
       "      <th>min</th>\n",
       "      <td>649.000000</td>\n",
       "      <td>1.000000</td>\n",
       "      <td>0.000000</td>\n",
       "      <td>10.000000</td>\n",
       "      <td>2.000000</td>\n",
       "      <td>12.000000</td>\n",
       "      <td>90.000000</td>\n",
       "    </tr>\n",
       "    <tr>\n",
       "      <th>25%</th>\n",
       "      <td>8999.000000</td>\n",
       "      <td>3.800000</td>\n",
       "      <td>6.500000</td>\n",
       "      <td>5000.000000</td>\n",
       "      <td>4.000000</td>\n",
       "      <td>64.000000</td>\n",
       "      <td>188.250000</td>\n",
       "    </tr>\n",
       "    <tr>\n",
       "      <th>50%</th>\n",
       "      <td>12999.000000</td>\n",
       "      <td>3.900000</td>\n",
       "      <td>6.580000</td>\n",
       "      <td>5000.000000</td>\n",
       "      <td>6.000000</td>\n",
       "      <td>128.000000</td>\n",
       "      <td>194.000000</td>\n",
       "    </tr>\n",
       "    <tr>\n",
       "      <th>75%</th>\n",
       "      <td>19999.000000</td>\n",
       "      <td>4.100000</td>\n",
       "      <td>6.670000</td>\n",
       "      <td>5000.000000</td>\n",
       "      <td>6.000000</td>\n",
       "      <td>128.000000</td>\n",
       "      <td>201.000000</td>\n",
       "    </tr>\n",
       "    <tr>\n",
       "      <th>max</th>\n",
       "      <td>134999.000000</td>\n",
       "      <td>5.000000</td>\n",
       "      <td>6.800000</td>\n",
       "      <td>6000.000000</td>\n",
       "      <td>16.000000</td>\n",
       "      <td>512.000000</td>\n",
       "      <td>285.000000</td>\n",
       "    </tr>\n",
       "  </tbody>\n",
       "</table>\n",
       "</div>"
      ],
      "text/plain": [
       "               price      rating  screen_size(inches)  battery_power(MAH)  \\\n",
       "count     433.000000  424.000000           434.000000          395.000000   \n",
       "mean    16928.942263    3.873585             5.832364         4924.516456   \n",
       "std     12706.409441    0.451224             2.040368          722.568161   \n",
       "min       649.000000    1.000000             0.000000           10.000000   \n",
       "25%      8999.000000    3.800000             6.500000         5000.000000   \n",
       "50%     12999.000000    3.900000             6.580000         5000.000000   \n",
       "75%     19999.000000    4.100000             6.670000         5000.000000   \n",
       "max    134999.000000    5.000000             6.800000         6000.000000   \n",
       "\n",
       "          ram(GB)  storage(GB)  item_weight(grams)  \n",
       "count  314.000000   273.000000          378.000000  \n",
       "mean     5.452229   117.479853          194.597884  \n",
       "std      2.357629    76.315766           16.935114  \n",
       "min      2.000000    12.000000           90.000000  \n",
       "25%      4.000000    64.000000          188.250000  \n",
       "50%      6.000000   128.000000          194.000000  \n",
       "75%      6.000000   128.000000          201.000000  \n",
       "max     16.000000   512.000000          285.000000  "
      ]
     },
     "execution_count": 39,
     "metadata": {},
     "output_type": "execute_result"
    }
   ],
   "source": [
    "data_transformed.describe()"
   ]
  },
  {
   "attachments": {},
   "cell_type": "markdown",
   "metadata": {},
   "source": [
    "Changing brand names to All Caps "
   ]
  },
  {
   "cell_type": "code",
   "execution_count": 48,
   "metadata": {},
   "outputs": [],
   "source": [
    "data_transformed['brand']=data_transformed['brand'].str.upper()\n",
    "data_transformed[data_transformed['brand']=='POCO BY XIAOMI']='POCO'"
   ]
  },
  {
   "cell_type": "code",
   "execution_count": 49,
   "metadata": {},
   "outputs": [
    {
     "data": {
      "text/plain": [
       "array(['REDMI', 'REALME', 'SAMSUNG', 'ONEPLUS', 'NOKIA', 'TECNO', 'LAVA',\n",
       "       'IQOO', 'PORTRONICS', 'AMKETTE', 'OPPO', 'ITEL', 'VIVO', 'XIAOMI',\n",
       "       'IKALL', 'MICROMAX', 'XIFO', 'POCO', 'MOTOROLA', 'MI', 'GENERIC',\n",
       "       'FRND', 'INFINIX', 'SHIVANSH'], dtype=object)"
      ]
     },
     "execution_count": 49,
     "metadata": {},
     "output_type": "execute_result"
    }
   ],
   "source": [
    "data_transformed['brand'].unique()"
   ]
  }
 ],
 "metadata": {
  "kernelspec": {
   "display_name": "car_price",
   "language": "python",
   "name": "car_price"
  },
  "language_info": {
   "codemirror_mode": {
    "name": "ipython",
    "version": 3
   },
   "file_extension": ".py",
   "mimetype": "text/x-python",
   "name": "python",
   "nbconvert_exporter": "python",
   "pygments_lexer": "ipython3",
   "version": "3.9.12"
  },
  "orig_nbformat": 4
 },
 "nbformat": 4,
 "nbformat_minor": 2
}

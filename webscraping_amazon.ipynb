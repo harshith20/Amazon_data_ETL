{
 "cells": [
  {
   "cell_type": "code",
   "execution_count": 5,
   "metadata": {},
   "outputs": [],
   "source": [
    "from bs4 import BeautifulSoup\n",
    "import requests\n",
    "import pandas as pd\n",
    "import numpy as np"
   ]
  },
  {
   "cell_type": "code",
   "execution_count": 2,
   "metadata": {},
   "outputs": [],
   "source": [
    "URL='https://www.amazon.in/s?k=mobiles&ref=nb_sb_noss_1'\n",
    "user_agent=['Mozilla/5.0 (Windows NT 10.0; Win64; x64) AppleWebKit/537.36 (KHTML, like Gecko) Chrome/113.0.0.0 Saf=ari/537.36 Edg/113.0.1774.42','Mozilla/5.0 (Windows NT 10.0; Win64; x64) AppleWebKit/537.36 (KHTML, like Gecko) Chrome/113.0.0.0 Safari/537.36','Mozilla/5.0 (Windows NT 10.0; Win64; x64) AppleWebKit/537.36 (KHTML, like Gecko) Chrome/113.0.0.0 Safari/537.36']\n"
   ]
  },
  {
   "cell_type": "code",
   "execution_count": 3,
   "metadata": {},
   "outputs": [],
   "source": [
    "# Headers for request\n",
    "import random\n",
    "\n",
    "HEADERS = ({'User-Agent' :random.choice(user_agent), 'Accept-Language': 'en-US, en;q=0.5'}) #add your user agent \n"
   ]
  },
  {
   "cell_type": "code",
   "execution_count": 4,
   "metadata": {},
   "outputs": [],
   "source": [
    "# HTTP Request\n",
    "webpage = requests.get(URL, headers=HEADERS)"
   ]
  },
  {
   "cell_type": "code",
   "execution_count": 5,
   "metadata": {},
   "outputs": [
    {
     "data": {
      "text/plain": [
       "<Response [200]>"
      ]
     },
     "execution_count": 5,
     "metadata": {},
     "output_type": "execute_result"
    }
   ],
   "source": [
    "webpage"
   ]
  },
  {
   "cell_type": "code",
   "execution_count": null,
   "metadata": {},
   "outputs": [],
   "source": [
    "# Soup Object containiang all data\n",
    "soup = BeautifulSoup(webpage.content, \"html.parser\")\n",
    "soup"
   ]
  },
  {
   "cell_type": "code",
   "execution_count": 7,
   "metadata": {},
   "outputs": [],
   "source": [
    "# Function to extract Product Title\n",
    "def get_title(soup):\n",
    "\n",
    "    try:\n",
    "        # Outer Tag Object\n",
    "        title = soup.find(\"span\", attrs={\"id\":'productTitle'})\n",
    "        \n",
    "        # Inner NavigatableString Object\n",
    "        title_value = title.text\n",
    "\n",
    "        # Title as a string value\n",
    "        title_string = title_value.strip()\n",
    "\n",
    "    except AttributeError:\n",
    "        title_string = \"\"\n",
    "\n",
    "    return title_string\n",
    "\n",
    "# Function to extract features\n",
    "def get_features(soup):\n",
    "\n",
    "    try:\n",
    "        # Outer Tag Object\n",
    "        title = soup.find(\"span\", attrs={\"id\":'productTitle'})\n",
    "        \n",
    "        # Inner NavigatableString Object\n",
    "        title_value = title.text\n",
    "\n",
    "        # Title as a string value\n",
    "        title_string = title_value.strip()\n",
    "\n",
    "    except AttributeError:\n",
    "        title_string = \"\"\n",
    "\n",
    "    return title_string\n",
    "# Function to extract Product Price\n",
    "def get_price(soup):\n",
    "\n",
    "    try:\n",
    "        price = soup.find(\"span\", attrs={'class':'a-price-whole'}).text\n",
    "\n",
    "    except AttributeError:\n",
    "\n",
    "        try:\n",
    "            # If there is some deal price\n",
    "            price = soup.find(\"span\", attrs={'id':'priceblock_dealprice'}).string.strip()\n",
    "\n",
    "        except:\n",
    "            price = \"\"\n",
    "\n",
    "    return price\n",
    "\n",
    "# Function to extract Product Rating\n",
    "def get_rating(soup):\n",
    "\n",
    "    try:\n",
    "        rating = soup.find(\"span\", attrs={'data-hook':'rating-out-of-text','class':'a-size-medium a-color-base'}).text\n",
    "    \n",
    "    except AttributeError:\n",
    "        try:\n",
    "            rating = soup.find(\"span\", attrs={'class':'a-icon-alt'}).string.strip()\n",
    "        except:\n",
    "            rating = \"\"\t\n",
    "\n",
    "    return rating\n",
    "\n",
    "# Function to extract Number of User Reviews\n",
    "def get_review_count(soup):\n",
    "    try:\n",
    "        review_count = soup.find(\"span\", attrs={'id':'acrCustomerReviewText'}).string.strip()\n",
    "\n",
    "    except AttributeError:\n",
    "        review_count = \"\"\t\n",
    "\n",
    "    return review_count\n",
    "\n",
    "# Function to extract Availability Status\n",
    "def get_availability(soup):\n",
    "    try:\n",
    "        available = soup.find(\"div\", attrs={'id':'availability'})\n",
    "        available = available.find(\"span\").string.strip()\n",
    "\n",
    "    except AttributeError:\n",
    "        available = \"Not Available\"\t\n",
    "\n",
    "    return available\n",
    "def get_brand_name(soup):\n",
    "\n",
    "    try:\n",
    "        brand = soup.find(\"span\", attrs={'class':'a-size-base po-break-word'}).text\n",
    "\n",
    "    except AttributeError:\n",
    "        brand = \"\"\n",
    "        \n",
    "    return brand\n",
    "def get_extract_details(soup):\n",
    "    \n",
    "    \n",
    "    rows = soup.find_all('tr')\n",
    "    details = {\"screen_size\": [], \"battery_power\": [], \"ram\": [], \"storage\": [],\n",
    "     \"operating_system\": [], \"item_weight\": []}\n",
    "    \n",
    "    for row in rows:\n",
    "        span_element = row.find('span', class_='a-size-base')\n",
    "        \n",
    "        if span_element and span_element.text == 'Screen Size':\n",
    "            td_element = row.find('td')\n",
    "            if td_element:\n",
    "                details['screen_size'] = td_element.text.strip()\n",
    "            else:\n",
    "                details['screen_size'] =''\n",
    "        \n",
    "        if span_element and span_element.text == 'Battery Power (In mAH)':\n",
    "            td_element = row.find('td')\n",
    "            if td_element:\n",
    "                details['battery_power'] = td_element.text.strip()\n",
    "            else:\n",
    "                details['battery_power'] =''\n",
    "        \n",
    "        if span_element and span_element.text == 'RAM':\n",
    "            td_element = row.find('td')\n",
    "            if td_element:\n",
    "                details['ram'] = td_element.text.strip()\n",
    "            else:\n",
    "                details['ram'] =''\n",
    "        \n",
    "        if span_element and span_element.text == 'Inbuilt Storage (in GB)':\n",
    "            td_element = row.find('td')\n",
    "            if td_element:\n",
    "                details['storage'] = td_element.text.strip()\n",
    "            else:\n",
    "                details['storage'] =''\n",
    "        \n",
    "        if span_element and span_element.text == 'Operating System':\n",
    "            td_element = row.find('td')\n",
    "            if td_element:\n",
    "                details['operating_system'] = td_element.text.strip()\n",
    "            else:\n",
    "                details['operating_system'] =''\n",
    "        \n",
    "        if span_element and span_element.text == 'Item Weight':\n",
    "            td_element = row.find('td')\n",
    "            if td_element:\n",
    "                details['item_weight'] = td_element.text.strip()\n",
    "            else:\n",
    "                details['item_weight'] =''\n",
    "            \n",
    "    \n",
    "    return details\n",
    "\n",
    "    "
   ]
  },
  {
   "cell_type": "code",
   "execution_count": null,
   "metadata": {},
   "outputs": [],
   "source": [
    "print(soup.find_all(\"a\", attrs={'class':'a-link-normal s-underline-text s-underline-link-text s-link-style a-text-normal'}.get('href')))\n"
   ]
  },
  {
   "cell_type": "code",
   "execution_count": 9,
   "metadata": {},
   "outputs": [
    {
     "name": "stdout",
     "output_type": "stream",
     "text": [
      "['/sspa/click?ie=UTF8&spc=MTo2OTMzNDcyMjcwOTc2ODQ5OjE2ODQxNDUwODE6c3BfYXRmOjIwMTUyMzQ2NjcxNTk4OjowOjo&url=%2FRedmi-Purple-Design-Performance-Triple%2Fdp%2FB0BBH4C5KT%2Fref%3Dsr_1_1_sspa%3Fkeywords%3Dmobiles%26qid%3D1684145081%26sr%3D8-1-spons%26sp_csd%3Dd2lkZ2V0TmFtZT1zcF9hdGY%26psc%3D1', '/sspa/click?ie=UTF8&spc=MTo2OTMzNDcyMjcwOTc2ODQ5OjE2ODQxNDUwODE6c3BfYXRmOjIwMTQyNjkwMTQwNTk4OjowOjo&url=%2FRedmi-Storage-Performance-Mediatek-Display%2Fdp%2FB0BYN48MQW%2Fref%3Dsr_1_2_sspa%3Fkeywords%3Dmobiles%26qid%3D1684145081%26sr%3D8-2-spons%26sp_csd%3Dd2lkZ2V0TmFtZT1zcF9hdGY%26psc%3D1', '/realme-Segment-Fastest-Charging-High-res/dp/B0BZ48VZMR/ref=sr_1_3?keywords=mobiles&qid=1684145081&sr=8-3', '/Samsung-Storage-MediaTek-Octa-core-Processor/dp/B0BMGB3CH9/ref=sr_1_4?keywords=mobiles&qid=1684145081&sr=8-4', '/Samsung-Storage-MediaTek-Octa-core-Processor/dp/B0BMGB2TPR/ref=sr_1_5?keywords=mobiles&qid=1684145081&sr=8-5', '/Samsung-Storage-Battery-Octa-Core-Processor/dp/B0BZCSSNV7/ref=sr_1_6?keywords=mobiles&qid=1684145081&sr=8-6', '/OnePlus-Nord-Chromatic-128GB-Storage/dp/B0BY8MCQ9S/ref=sr_1_7?keywords=mobiles&qid=1684145081&sr=8-7', '/realme-Segment-Fastest-Charging-High-res/dp/B0BZ466BWW/ref=sr_1_8?keywords=mobiles&qid=1684145081&sr=8-8', '/OnePlus-Sonic-Black-256GB-Storage/dp/B0BSNNWX8R/ref=sr_1_9?keywords=mobiles&qid=1684145081&sr=8-9', '/Redmi-Storage-Segment-5000mAh-Battery/dp/B0BBN4DZBD/ref=sr_1_10?keywords=mobiles&qid=1684145081&sr=8-10', '/sspa/click?ie=UTF8&spc=MTo2OTMzNDcyMjcwOTc2ODQ5OjE2ODQxNDUwODE6c3BfbXRmOjIwMTA5MjI1NjUzOTk4OjowOjo&url=%2FRedmi-Mystique-AMOLED-Snapdragon%25C2%25AE-Triple%2Fdp%2FB0BQ3PJJDQ%2Fref%3Dsr_1_11_sspa%3Fkeywords%3Dmobiles%26qid%3D1684145081%26sr%3D8-11-spons%26sp_csd%3Dd2lkZ2V0TmFtZT1zcF9tdGY%26psc%3D1', '/sspa/click?ie=UTF8&spc=MTo2OTMzNDcyMjcwOTc2ODQ5OjE2ODQxNDUwODE6c3BfbXRmOjIwMDY1NjM2MzY3OTk4OjowOjo&url=%2FRedmi-Flagship-Mediatek-Dimensity-Processor%2Fdp%2FB0B4DWPM27%2Fref%3Dsr_1_12_sspa%3Fkeywords%3Dmobiles%26qid%3D1684145081%26sr%3D8-12-spons%26sp_csd%3Dd2lkZ2V0TmFtZT1zcF9tdGY%26psc%3D1', '/OnePlus-Nord-Black-128GB-Storage/dp/B09WQY65HN/ref=sr_1_13?keywords=mobiles&qid=1684145081&sr=8-13', '/realme-Storage-Octa-core-Processor-Battery/dp/B0BBM7L888/ref=sr_1_14?keywords=mobiles&qid=1684145081&sr=8-14', '/Redmi-Storage-Battery-Finger-Booster/dp/B09XB7SRQ5/ref=sr_1_15?keywords=mobiles&qid=1684145081&sr=8-15', '/Redmi-Storage-Performance-Mediatek-Display/dp/B0BYN34PGJ/ref=sr_1_16?keywords=mobiles&qid=1684145081&sr=8-16', '/Nokia-Android-Smartphone-Battery-Storage/dp/B09Y99VSSJ/ref=sr_1_17?keywords=mobiles&qid=1684145081&sr=8-17', '/Samsung-Midnight-Storage-6000mAh-Battery/dp/B0B4F52B5X/ref=sr_1_18?keywords=mobiles&qid=1684145081&sr=8-18', '/Samsung-Storage-MediaTek-Octa-core-Processor/dp/B0BMGC6LHP/ref=sr_1_19?keywords=mobiles&qid=1684145081&sr=8-19', '/Redmi-Segment-5000mAh-Battery-Leather/dp/B0BBN3WF7V/ref=sr_1_20?keywords=mobiles&qid=1684145081&sr=8-20', '/sspa/click?ie=UTF8&spc=MTo2OTMzNDcyMjcwOTc2ODQ5OjE2ODQxNDUwODE6c3BfYnRmOjIwMTI0NTkzNzY1OTk4OjowOjo&url=%2FTecno-Phantom-Stardust-Dimensity-Processor%2Fdp%2FB0BPS3DCC7%2Fref%3Dsr_1_21_sspa%3Fkeywords%3Dmobiles%26qid%3D1684145081%26sr%3D8-21-spons%26sp_csd%3Dd2lkZ2V0TmFtZT1zcF9idGY%26psc%3D1', '/sspa/click?ie=UTF8&spc=MTo2OTMzNDcyMjcwOTc2ODQ5OjE2ODQxNDUwODE6c3BfYnRmOjIwMTIxMDY0MDMxNzk4OjowOjo&url=%2FLava-Blaze-5G-Green-Expandable%2Fdp%2FB0BSTVXFWD%2Fref%3Dsr_1_22_sspa%3Fkeywords%3Dmobiles%26qid%3D1684145081%26sr%3D8-22-spons%26sp_csd%3Dd2lkZ2V0TmFtZT1zcF9idGY%26psc%3D1', '/iQOO-128GB-Storage-Snapdragon%C2%AE-FlashCharge/dp/B07WDKLDRX/ref=sxbs_aspa_sqa?c_c=317877521&content-id=amzn1.sym.2ebf6aef-07da-440f-8e9d-3a959a5bfb5c%3Aamzn1.sym.2ebf6aef-07da-440f-8e9d-3a959a5bfb5c&cv_ct_cx=mobiles&keywords=mobiles&pd_rd_i=B07WDKLDRX&pd_rd_r=1d75b383-b6c6-402e-bdb1-fcf03e96ac10&pd_rd_w=CNe9l&pd_rd_wg=CHNoC&pf_rd_p=2ebf6aef-07da-440f-8e9d-3a959a5bfb5c&pf_rd_r=M1TRSBB1CS67JZ8VBSZK&qid=1684145081&sbo=RZvfv%2F%2FHxDF%2BO5021pAnSA%3D%3D&sr=1-1-93291ede-2a7a-4e75-a6c2-b89c29736263', '/Portronics-Mechanical-Bluetooth-Compatible-Smartphones/dp/B0BS9QGDF3/ref=sxbs_aspa_sqa?c_c=317877521&content-id=amzn1.sym.2ebf6aef-07da-440f-8e9d-3a959a5bfb5c%3Aamzn1.sym.2ebf6aef-07da-440f-8e9d-3a959a5bfb5c&cv_ct_cx=mobiles&keywords=mobiles&pd_rd_i=B0BS9QGDF3&pd_rd_r=1d75b383-b6c6-402e-bdb1-fcf03e96ac10&pd_rd_w=CNe9l&pd_rd_wg=CHNoC&pf_rd_p=2ebf6aef-07da-440f-8e9d-3a959a5bfb5c&pf_rd_r=M1TRSBB1CS67JZ8VBSZK&qid=1684145081&sbo=RZvfv%2F%2FHxDF%2BO5021pAnSA%3D%3D&sr=1-3-93291ede-2a7a-4e75-a6c2-b89c29736263', '/Amkette-Smartphone-Bluetooth-Gamepad-Detachable/dp/B0BXCS7VSP/ref=sxbs_aspa_sqa?c_c=317877521&content-id=amzn1.sym.2ebf6aef-07da-440f-8e9d-3a959a5bfb5c%3Aamzn1.sym.2ebf6aef-07da-440f-8e9d-3a959a5bfb5c&cv_ct_cx=mobiles&keywords=mobiles&pd_rd_i=B0BXCS7VSP&pd_rd_r=1d75b383-b6c6-402e-bdb1-fcf03e96ac10&pd_rd_w=CNe9l&pd_rd_wg=CHNoC&pf_rd_p=2ebf6aef-07da-440f-8e9d-3a959a5bfb5c&pf_rd_r=M1TRSBB1CS67JZ8VBSZK&qid=1684145081&sbo=RZvfv%2F%2FHxDF%2BO5021pAnSA%3D%3D&sr=1-5-93291ede-2a7a-4e75-a6c2-b89c29736263', '/iQOO-Interstellar-Storage-Dimensity-Processor/dp/B07WDKLDCN/ref=sxbs_aspa_sqa?c_c=317877521&content-id=amzn1.sym.2ebf6aef-07da-440f-8e9d-3a959a5bfb5c%3Aamzn1.sym.2ebf6aef-07da-440f-8e9d-3a959a5bfb5c&cv_ct_cx=mobiles&keywords=mobiles&pd_rd_i=B07WDKLDCN&pd_rd_r=1d75b383-b6c6-402e-bdb1-fcf03e96ac10&pd_rd_w=CNe9l&pd_rd_wg=CHNoC&pf_rd_p=2ebf6aef-07da-440f-8e9d-3a959a5bfb5c&pf_rd_r=M1TRSBB1CS67JZ8VBSZK&qid=1684145081&sbo=RZvfv%2F%2FHxDF%2BO5021pAnSA%3D%3D&sr=1-7-93291ede-2a7a-4e75-a6c2-b89c29736263', '/Redmi-Storage-Qualcomm%C2%AE-SnapdragonTM-Included/dp/B09QS8V5N8/ref=sxbs_aspa_sqa?c_c=1148846010&content-id=amzn1.sym.2ebf6aef-07da-440f-8e9d-3a959a5bfb5c%3Aamzn1.sym.2ebf6aef-07da-440f-8e9d-3a959a5bfb5c&cv_ct_cx=mobiles&keywords=mobiles&pd_rd_i=B09QS8V5N8&pd_rd_r=1d75b383-b6c6-402e-bdb1-fcf03e96ac10&pd_rd_w=CNe9l&pd_rd_wg=CHNoC&pf_rd_p=2ebf6aef-07da-440f-8e9d-3a959a5bfb5c&pf_rd_r=M1TRSBB1CS67JZ8VBSZK&qid=1684145081&sbo=RZvfv%2F%2FHxDF%2BO5021pAnSA%3D%3D&sr=1-2-93291ede-2a7a-4e75-a6c2-b89c29736263', '/iQOO-Dimensity-Processor-Brightest-FlashCharge/dp/B07WFPMQB1/ref=sxbs_aspa_sqa?c_c=1148846010&content-id=amzn1.sym.2ebf6aef-07da-440f-8e9d-3a959a5bfb5c%3Aamzn1.sym.2ebf6aef-07da-440f-8e9d-3a959a5bfb5c&cv_ct_cx=mobiles&keywords=mobiles&pd_rd_i=B07WFPMQB1&pd_rd_r=1d75b383-b6c6-402e-bdb1-fcf03e96ac10&pd_rd_w=CNe9l&pd_rd_wg=CHNoC&pf_rd_p=2ebf6aef-07da-440f-8e9d-3a959a5bfb5c&pf_rd_r=M1TRSBB1CS67JZ8VBSZK&qid=1684145081&sbo=RZvfv%2F%2FHxDF%2BO5021pAnSA%3D%3D&sr=1-4-93291ede-2a7a-4e75-a6c2-b89c29736263', '/realme-Storage-Dimensity-Processor-Display/dp/B09ZBGG4HR/ref=sxbs_aspa_sqa?c_c=1148846010&content-id=amzn1.sym.2ebf6aef-07da-440f-8e9d-3a959a5bfb5c%3Aamzn1.sym.2ebf6aef-07da-440f-8e9d-3a959a5bfb5c&cv_ct_cx=mobiles&keywords=mobiles&pd_rd_i=B09ZBGG4HR&pd_rd_r=1d75b383-b6c6-402e-bdb1-fcf03e96ac10&pd_rd_w=CNe9l&pd_rd_wg=CHNoC&pf_rd_p=2ebf6aef-07da-440f-8e9d-3a959a5bfb5c&pf_rd_r=M1TRSBB1CS67JZ8VBSZK&qid=1684145081&sbo=RZvfv%2F%2FHxDF%2BO5021pAnSA%3D%3D&sr=1-6-93291ede-2a7a-4e75-a6c2-b89c29736263', '/Redmi-Horizon-Included-Additional-Exchange/dp/B09QXKKGWC/ref=sxbs_aspa_sqa?c_c=1148846010&content-id=amzn1.sym.2ebf6aef-07da-440f-8e9d-3a959a5bfb5c%3Aamzn1.sym.2ebf6aef-07da-440f-8e9d-3a959a5bfb5c&cv_ct_cx=mobiles&keywords=mobiles&pd_rd_i=B09QXKKGWC&pd_rd_r=1d75b383-b6c6-402e-bdb1-fcf03e96ac10&pd_rd_w=CNe9l&pd_rd_wg=CHNoC&pf_rd_p=2ebf6aef-07da-440f-8e9d-3a959a5bfb5c&pf_rd_r=M1TRSBB1CS67JZ8VBSZK&qid=1684145081&sbo=RZvfv%2F%2FHxDF%2BO5021pAnSA%3D%3D&sr=1-8-93291ede-2a7a-4e75-a6c2-b89c29736263']\n"
     ]
    }
   ],
   "source": [
    "links = soup.find_all(\"a\", attrs={'class':'a-link-normal s-underline-text s-underline-link-text s-link-style a-text-normal'})\n",
    "\n",
    "    # Store the links\n",
    "links_list = []\n",
    "\n",
    "    # Loop for extracting links from Tag Objects\n",
    "for link in links:\n",
    "        links_list.append(link.get('href'))\n",
    "\n",
    "print(links_list)"
   ]
  },
  {
   "cell_type": "code",
   "execution_count": 10,
   "metadata": {},
   "outputs": [],
   "source": [
    "links = soup.find_all(\"a\", attrs={'class':'a-link-normal s-no-outline'})\n",
    "\n",
    "    # Store the links\n",
    "links_list = []\n",
    "\n",
    "    # Loop for extracting links from Tag Objects\n",
    "for link in links:\n",
    "        links_list.append(link.get('href'))"
   ]
  },
  {
   "cell_type": "code",
   "execution_count": 11,
   "metadata": {},
   "outputs": [],
   "source": [
    "links = soup.find_all(\"a\", attrs={'class':'a-link-normal s-no-outline'})\n",
    "\n",
    "    # Store the links\n",
    "links_list = []\n",
    "\n",
    "    # Loop for extracting links from Tag Objects\n",
    "for link in links:\n",
    "        links_list.append(link.get('href'))"
   ]
  },
  {
   "cell_type": "code",
   "execution_count": 12,
   "metadata": {},
   "outputs": [],
   "source": [
    "links = soup.find_all(\"a\", attrs={'class':'a-link-normal s-no-outline'})\n",
    "\n",
    "    # Store the links\n",
    "links_list = []\n",
    "\n",
    "    # Loop for extracting links from Tag Objects\n",
    "for link in links:\n",
    "        links_list.append(link.get('href'))"
   ]
  },
  {
   "cell_type": "code",
   "execution_count": 13,
   "metadata": {},
   "outputs": [],
   "source": [
    "new_webpage = requests.get(\"https://www.amazon.in/realme-Segment-Fastest-Charging-High-res/dp/B0BZ48VZMR/ref=sr_1_3?keywords=mobiles&sr=8-3&th=1\", headers=HEADERS)\n",
    "\n",
    "new_soup = BeautifulSoup(new_webpage.content, \"html.parser\")\n"
   ]
  },
  {
   "cell_type": "code",
   "execution_count": 14,
   "metadata": {},
   "outputs": [
    {
     "name": "stdout",
     "output_type": "stream",
     "text": [
      "10,999.\n",
      "        realme narzo N55 (Prime Black, 4GB+64GB) 33W Segment Fastest Charging | Super High-res 64MP Primary AI Camera       \n",
      "4.2 out of 5\n",
      "realme\n",
      "6.72 inches\n",
      "5000\n",
      "4 GB\n",
      "64 GB\n",
      "Android 13.0\n",
      "190 grams\n"
     ]
    }
   ],
   "source": [
    "\n",
    "print(new_soup.find(\"span\", attrs={'class':'a-price-whole'}).text)\n",
    "print(new_soup.find(\"span\", attrs={\"id\":'productTitle'}).text)\n",
    "# print( new_soup.find('span', attrs={'id':'inline-twister-expanded-dimension-text-size_name','class':'a-size-base a-color-base inline-twister-dim-title-value a-text-bold'}).text)\n",
    "print(new_soup.find(\"span\", attrs={'data-hook':'rating-out-of-text','class':'a-size-medium a-color-base'}).text)\n",
    "print(new_soup.find(\"span\", attrs={'class':'a-size-base po-break-word'}).text)\n",
    "\n",
    "# print(new_soup.select('span.a-size-base:contains(\"RAM\")').find(\"td\", attrs={'class':'base-item-column'}).text)\n",
    "# print(new_soup.select_one(\"span[a-size-base*=RAM]\"))\n",
    "\n",
    "rows = new_soup.find_all('tr')\n",
    "for row in rows:\n",
    "    span_element = row.find('span', class_='a-size-base')\n",
    "    if span_element and span_element.text == 'Screen Size':\n",
    "        td_element = row.find('td')\n",
    "        if td_element:\n",
    "            print(td_element.text.strip())\n",
    "    if span_element and span_element.text == 'Battery Power (In mAH)':\n",
    "        td_element = row.find('td')\n",
    "        if td_element:\n",
    "            print(td_element.text.strip())\n",
    "    if span_element and span_element.text == 'RAM':\n",
    "        td_element = row.find('td')\n",
    "        if td_element:\n",
    "            print(td_element.text.strip()) \n",
    "    if span_element and span_element.text == 'Inbuilt Storage (in GB)':\n",
    "        td_element = row.find('td')\n",
    "        if td_element:\n",
    "            print(td_element.text.strip()) \n",
    "    if span_element and span_element.text == 'Operating System':\n",
    "        td_element = row.find('td')\n",
    "        if td_element:\n",
    "            print(td_element.text.strip())        \n",
    "    if span_element and span_element.text == 'Item Weight':\n",
    "        td_element = row.find('td')\n",
    "        if td_element:\n",
    "            print(td_element.text.strip())\n",
    "        break\n",
    "\n"
   ]
  },
  {
   "cell_type": "code",
   "execution_count": null,
   "metadata": {},
   "outputs": [],
   "source": [
    "# soup.select_one('.s-pagination-item.s-pagination-next')['href']\n",
    "# webpage = requests.get(URL, headers=HEADERS)\n",
    "# soup = BeautifulSoup(webpage.content, \"html.parser\")"
   ]
  },
  {
   "cell_type": "code",
   "execution_count": null,
   "metadata": {},
   "outputs": [],
   "source": [
    "d = {\"title\": [], \"price\": [], \"rating\": [],\"brand\":[],\n",
    "        \"screen_size\": [], \"battery_power\": [], \"ram\": [], \"storage\": [],\n",
    "        \"operating_system\": [], \"item_weight\": []}\n",
    "import time\n",
    "for i in range(20):\n",
    "        \n",
    "    links = soup.find_all(\"a\", attrs={'class':'a-link-normal s-no-outline'})\n",
    "\n",
    "        # Store the links\n",
    "    links_list = []\n",
    "\n",
    "        # Loop for extracting links from Tag Objects\n",
    "    for link in links:\n",
    "            links_list.append(link.get('href'))\n",
    "    \n",
    "\n",
    "    # Loop for extracting product details from each link \n",
    "    for link in links_list:\n",
    "        delay = random.uniform(1, 3)\n",
    "        time.sleep(delay)\n",
    "        new_webpage = requests.get(\"https://www.amazon.in\" + link, headers=HEADERS)\n",
    "\n",
    "        new_soup = BeautifulSoup(new_webpage.content, \"html.parser\")\n",
    "\n",
    "        # Function calls to display all necessary product information\n",
    "        d['title'].append(get_title(new_soup))\n",
    "        d['price'].append(get_price(new_soup))\n",
    "        d['rating'].append(get_rating(new_soup))\n",
    "        d['brand'].append(get_brand_name(new_soup))\n",
    "        details = get_extract_details(new_soup)\n",
    "\n",
    "        # Append the values from the 'details' dictionary to the main dictionary 'd'\n",
    "        print(len(details))\n",
    "        for key, value in details.items():\n",
    "            \n",
    "            d[key].append(value)\n",
    "            if value=='':\n",
    "\n",
    "                print('null' ,key,'value',value)\n",
    "\n",
    "    URL=soup.select_one('.s-pagination-item.s-pagination-next')['href']\n",
    "    webpage = requests.get(\"https://www.amazon.in\" + URL, headers=HEADERS)\n",
    "    soup = BeautifulSoup(webpage.content, \"html.parser\")\n"
   ]
  },
  {
   "cell_type": "code",
   "execution_count": 16,
   "metadata": {},
   "outputs": [
    {
     "name": "stdout",
     "output_type": "stream",
     "text": [
      "434 title\n",
      "434 price\n",
      "434 rating\n",
      "434 brand\n",
      "434 screen_size\n",
      "434 battery_power\n",
      "434 ram\n",
      "434 storage\n",
      "434 operating_system\n",
      "434 item_weight\n"
     ]
    },
    {
     "data": {
      "text/plain": [
       "10"
      ]
     },
     "execution_count": 16,
     "metadata": {},
     "output_type": "execute_result"
    }
   ],
   "source": [
    "\n",
    "for key, value in d.items():\n",
    "        print(len(d[key]),key)\n",
    "\n",
    "len(d)"
   ]
  },
  {
   "cell_type": "code",
   "execution_count": 17,
   "metadata": {},
   "outputs": [],
   "source": [
    "\n",
    "phone_data=pd.DataFrame(d)"
   ]
  },
  {
   "cell_type": "code",
   "execution_count": null,
   "metadata": {},
   "outputs": [],
   "source": [
    "phone_data.to_csv('amazon_phones.csv')"
   ]
  }
 ],
 "metadata": {
  "kernelspec": {
   "display_name": "car_price",
   "language": "python",
   "name": "car_price"
  },
  "language_info": {
   "codemirror_mode": {
    "name": "ipython",
    "version": 3
   },
   "file_extension": ".py",
   "mimetype": "text/x-python",
   "name": "python",
   "nbconvert_exporter": "python",
   "pygments_lexer": "ipython3",
   "version": "3.9.12"
  },
  "orig_nbformat": 4
 },
 "nbformat": 4,
 "nbformat_minor": 2
}
